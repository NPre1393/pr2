{
  "nbformat": 4,
  "nbformat_minor": 0,
  "metadata": {
    "colab": {
      "name": "gc_testing.ipynb",
      "provenance": [],
      "collapsed_sections": []
    },
    "kernelspec": {
      "name": "python3",
      "display_name": "Python 3"
    }
  },
  "cells": [
    {
      "cell_type": "code",
      "metadata": {
        "id": "Zp9Ghry0xjHY",
        "colab_type": "code",
        "colab": {
          "base_uri": "https://localhost:8080/",
          "height": 136
        },
        "outputId": "ab85af9e-48e3-4817-9514-494926033671"
      },
      "source": [
        "!git clone https://github.com/NPre1393/pr2"
      ],
      "execution_count": 1,
      "outputs": [
        {
          "output_type": "stream",
          "text": [
            "Cloning into 'pr2'...\n",
            "remote: Enumerating objects: 496, done.\u001b[K\n",
            "remote: Counting objects: 100% (496/496), done.\u001b[K\n",
            "remote: Compressing objects: 100% (345/345), done.\u001b[K\n",
            "remote: Total 1825 (delta 252), reused 370 (delta 140), pack-reused 1329\u001b[K\n",
            "Receiving objects: 100% (1825/1825), 64.63 MiB | 31.33 MiB/s, done.\n",
            "Resolving deltas: 100% (578/578), done.\n"
          ],
          "name": "stdout"
        }
      ]
    },
    {
      "cell_type": "markdown",
      "metadata": {
        "id": "z20r-cZJWzq7",
        "colab_type": "text"
      },
      "source": [
        "We need to change directory in order to be at the root dir of the gc_testing module, otherwise the import statements afterwards will not work. Alternatively one could add the folder /content/pr2/testing_pipeline/gc_testing to the python syspath"
      ]
    },
    {
      "cell_type": "code",
      "metadata": {
        "id": "CJxdfM9ED2rF",
        "colab_type": "code",
        "colab": {
          "base_uri": "https://localhost:8080/",
          "height": 51
        },
        "outputId": "66ca1195-8c6c-4a2b-d4bd-09aade0f6a50"
      },
      "source": [
        "%cd pr2/testing_pipeline/gc_testing\n",
        "!pwd"
      ],
      "execution_count": 2,
      "outputs": [
        {
          "output_type": "stream",
          "text": [
            "/content/pr2/testing_pipeline/gc_testing\n",
            "/content/pr2/testing_pipeline/gc_testing\n"
          ],
          "name": "stdout"
        }
      ]
    },
    {
      "cell_type": "code",
      "metadata": {
        "id": "JJ1a2ohqyTiI",
        "colab_type": "code",
        "colab": {}
      },
      "source": [
        "import apps.data_generator as dg\n",
        "from apps.algorithm_loader import Algorithm_Loader"
      ],
      "execution_count": 3,
      "outputs": []
    },
    {
      "cell_type": "code",
      "metadata": {
        "id": "f5O06ZI3yGcY",
        "colab_type": "code",
        "colab": {
          "base_uri": "https://localhost:8080/",
          "height": 340
        },
        "outputId": "1869790a-9c24-4296-8c76-b3fd923ae3df"
      },
      "source": [
        "# generates a dataset of f=5, t=300 values\n",
        "dataset1 = dg.dataset(features=5)\n",
        "dataset1.gen_var_data()\n",
        "# we can run a specific algorithm with specific parameters\n",
        "args_ngc = {\"train_epochs\": 1000, \"learning_rate\": 0.01, \"batch_size\": 32,'hidden':10, 'lag':5, 'verbose':1, 'model':'mlp'}\n",
        "args = {'dataset':dataset1, 'result_path':'./', 'model_path':'result2/', 'algorithms':{'neural_gc':args_ngc}}\n",
        "alg_load1 = Algorithm_Loader(args)\n",
        "# print out granger causality matrix\n",
        "print(alg_load1.dataset.GC)\n",
        "print(alg_load1.dataset.dependencies['dep1'])\n",
        "print(alg_load1)"
      ],
      "execution_count": 4,
      "outputs": [
        {
          "output_type": "stream",
          "text": [
            "----------Iter = 1000----------\n",
            "Loss = 0.002068\n",
            "{'neural_gc':    0  1  2  3  4\n",
            "0  1  1  1  1  1\n",
            "1  1  1  1  1  1\n",
            "2  1  1  1  1  1\n",
            "3  1  1  1  1  1\n",
            "4  1  1  1  1  1}\n",
            "   0  1  2  3  4\n",
            "0  1  0  0  0  0\n",
            "1  0  1  0  0  0\n",
            "2  0  0  1  0  0\n",
            "3  0  0  0  1  0\n",
            "4  0  0  0  0  1\n",
            "Algorithm Loader Information\n",
            "Dataset dims = (300, 5)\n",
            "result path = ./\n",
            "model path = result2/\n",
            "algorithms to run: ['neural_gc']\n"
          ],
          "name": "stdout"
        }
      ]
    }
  ]
}