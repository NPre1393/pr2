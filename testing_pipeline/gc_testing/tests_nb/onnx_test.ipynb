{
  "nbformat": 4,
  "nbformat_minor": 0,
  "metadata": {
    "colab": {
      "name": "onnx_test.ipynb",
      "provenance": [],
      "collapsed_sections": []
    },
    "kernelspec": {
      "name": "python3",
      "display_name": "Python 3"
    }
  },
  "cells": [
    {
      "cell_type": "code",
      "metadata": {
        "id": "EmgeYfV6lsgQ",
        "colab_type": "code",
        "colab": {
          "base_uri": "https://localhost:8080/",
          "height": 85
        },
        "outputId": "9a8bbdbd-6926-4d7c-cd12-53153df181c6"
      },
      "source": [
        "!git clone https://github.com/iancovert/Neural-GC"
      ],
      "execution_count": 1,
      "outputs": [
        {
          "output_type": "stream",
          "text": [
            "Cloning into 'Neural-GC'...\n",
            "remote: Enumerating objects: 27, done.\u001b[K\n",
            "remote: Total 27 (delta 0), reused 0 (delta 0), pack-reused 27\u001b[K\n",
            "Unpacking objects: 100% (27/27), done.\n"
          ],
          "name": "stdout"
        }
      ]
    },
    {
      "cell_type": "code",
      "metadata": {
        "id": "r3cvOyFnmFXV",
        "colab_type": "code",
        "colab": {}
      },
      "source": [
        "import sys\n",
        "sys.path.append('/content/Neural-GC')\n",
        "sys.path.append('/content/Neural-GC/models')"
      ],
      "execution_count": 1,
      "outputs": []
    },
    {
      "cell_type": "code",
      "metadata": {
        "id": "PucDkSukmmRh",
        "colab_type": "code",
        "colab": {}
      },
      "source": [
        "import numpy as np\n",
        "import torch\n",
        "from models.cmlp import cMLP, cMLPSparse, train_model_adam, train_model_gista\n",
        "from synthetic import simulate_var\n",
        "import matplotlib.pyplot as plt"
      ],
      "execution_count": 2,
      "outputs": []
    },
    {
      "cell_type": "code",
      "metadata": {
        "id": "P15vSOPSmozU",
        "colab_type": "code",
        "colab": {}
      },
      "source": [
        "device = torch.device('cuda')"
      ],
      "execution_count": 3,
      "outputs": []
    },
    {
      "cell_type": "code",
      "metadata": {
        "id": "-GigRIuxmsra",
        "colab_type": "code",
        "colab": {}
      },
      "source": [
        "# Simulate data\n",
        "p = 10\n",
        "T = 1000\n",
        "var_lag = 3\n",
        "X_np, beta, GC = simulate_var(p, T, var_lag)\n",
        "#X = torch.tensor(X_np[np.newaxis], dtype=torch.float32, device=device)\n",
        "X = torch.tensor(X_np[np.newaxis], dtype=torch.float32)"
      ],
      "execution_count": 4,
      "outputs": []
    },
    {
      "cell_type": "code",
      "metadata": {
        "id": "r0AfZDQnmtHJ",
        "colab_type": "code",
        "colab": {}
      },
      "source": [
        "lag = 5\n",
        "hidden = [10]\n",
        "#cmlp = cMLP(p, lag, hidden).cuda(device=device)\n",
        "cmlp = cMLP(p, lag, hidden)"
      ],
      "execution_count": 5,
      "outputs": []
    },
    {
      "cell_type": "code",
      "metadata": {
        "id": "qJTT3ZzBmvqU",
        "colab_type": "code",
        "colab": {
          "base_uri": "https://localhost:8080/",
          "height": 255
        },
        "outputId": "e9aba641-ff64-428c-af8e-4e4005948560"
      },
      "source": [
        "#!pip install onnx\n",
        "#!pip install git+https://github.com/onnx/onnx-tensorflow.git\n",
        "!git clone https://github.com/onnx/onnx-tensorflow.git && cd onnx-tensorflow\n",
        "!pip install -e /content/onnx-tensorflow/"
      ],
      "execution_count": 6,
      "outputs": [
        {
          "output_type": "stream",
          "text": [
            "fatal: destination path 'onnx-tensorflow' already exists and is not an empty directory.\n",
            "Obtaining file:///content/onnx-tensorflow\n",
            "Requirement already satisfied: onnx>=1.6.0 in /usr/local/lib/python3.6/dist-packages (from onnx-tf==1.6.0) (1.7.0)\n",
            "Requirement already satisfied: PyYAML in /usr/local/lib/python3.6/dist-packages (from onnx-tf==1.6.0) (3.13)\n",
            "Requirement already satisfied: typing-extensions>=3.6.2.1 in /usr/local/lib/python3.6/dist-packages (from onnx>=1.6.0->onnx-tf==1.6.0) (3.7.4.3)\n",
            "Requirement already satisfied: numpy in /usr/local/lib/python3.6/dist-packages (from onnx>=1.6.0->onnx-tf==1.6.0) (1.18.5)\n",
            "Requirement already satisfied: protobuf in /usr/local/lib/python3.6/dist-packages (from onnx>=1.6.0->onnx-tf==1.6.0) (3.12.4)\n",
            "Requirement already satisfied: six in /usr/local/lib/python3.6/dist-packages (from onnx>=1.6.0->onnx-tf==1.6.0) (1.15.0)\n",
            "Requirement already satisfied: setuptools in /usr/local/lib/python3.6/dist-packages (from protobuf->onnx>=1.6.0->onnx-tf==1.6.0) (49.6.0)\n",
            "Installing collected packages: onnx-tf\n",
            "  Found existing installation: onnx-tf 1.6.0\n",
            "    Can't uninstall 'onnx-tf'. No files were found to uninstall.\n",
            "  Running setup.py develop for onnx-tf\n",
            "Successfully installed onnx-tf\n"
          ],
          "name": "stdout"
        }
      ]
    },
    {
      "cell_type": "code",
      "metadata": {
        "id": "tRxBUQPEni2u",
        "colab_type": "code",
        "colab": {}
      },
      "source": [
        "import onnx\n",
        "import tensorflow as tf\n",
        "import torch\n",
        "from onnx_tf.backend import prepare"
      ],
      "execution_count": 7,
      "outputs": []
    },
    {
      "cell_type": "code",
      "metadata": {
        "id": "IL--kIxHrsY1",
        "colab_type": "code",
        "colab": {}
      },
      "source": [
        "train_loss_list = train_model_adam(cmlp, X, lr=1e-2, niter=1000, check_every=1000)"
      ],
      "execution_count": 10,
      "outputs": []
    },
    {
      "cell_type": "code",
      "metadata": {
        "id": "fX8MWB-5poe1",
        "colab_type": "code",
        "colab": {
          "base_uri": "https://localhost:8080/",
          "height": 1000
        },
        "outputId": "41c6cfc6-12d9-40c1-cabd-b445a836ceaa"
      },
      "source": [
        "input_names = [\"input\"]\n",
        "output_names = [\"output\"]\n",
        "ONNX_MODEL_PATH = '/content/neuralgc.onnx'\n",
        "torch.onnx.export(cmlp, X, ONNX_MODEL_PATH, verbose=True, input_names=input_names, output_names=output_names)\n"
      ],
      "execution_count": 14,
      "outputs": [
        {
          "output_type": "stream",
          "text": [
            "graph(%input : Float(1:10000, 1000:10, 10:1),\n",
            "      %param_list.0 : Float(10:50, 10:5, 5:1),\n",
            "      %param_list.1 : Float(10:1),\n",
            "      %param_list.2 : Float(1:10, 10:1, 1:1),\n",
            "      %param_list.3 : Float(1:1),\n",
            "      %param_list.4 : Float(10:50, 10:5, 5:1),\n",
            "      %param_list.5 : Float(10:1),\n",
            "      %param_list.6 : Float(1:10, 10:1, 1:1),\n",
            "      %param_list.7 : Float(1:1),\n",
            "      %param_list.8 : Float(10:50, 10:5, 5:1),\n",
            "      %param_list.9 : Float(10:1),\n",
            "      %param_list.10 : Float(1:10, 10:1, 1:1),\n",
            "      %param_list.11 : Float(1:1),\n",
            "      %param_list.12 : Float(10:50, 10:5, 5:1),\n",
            "      %param_list.13 : Float(10:1),\n",
            "      %param_list.14 : Float(1:10, 10:1, 1:1),\n",
            "      %param_list.15 : Float(1:1),\n",
            "      %param_list.16 : Float(10:50, 10:5, 5:1),\n",
            "      %param_list.17 : Float(10:1),\n",
            "      %param_list.18 : Float(1:10, 10:1, 1:1),\n",
            "      %param_list.19 : Float(1:1),\n",
            "      %param_list.20 : Float(10:50, 10:5, 5:1),\n",
            "      %param_list.21 : Float(10:1),\n",
            "      %param_list.22 : Float(1:10, 10:1, 1:1),\n",
            "      %param_list.23 : Float(1:1),\n",
            "      %param_list.24 : Float(10:50, 10:5, 5:1),\n",
            "      %param_list.25 : Float(10:1),\n",
            "      %param_list.26 : Float(1:10, 10:1, 1:1),\n",
            "      %param_list.27 : Float(1:1),\n",
            "      %param_list.28 : Float(10:50, 10:5, 5:1),\n",
            "      %param_list.29 : Float(10:1),\n",
            "      %param_list.30 : Float(1:10, 10:1, 1:1),\n",
            "      %param_list.31 : Float(1:1),\n",
            "      %param_list.32 : Float(10:50, 10:5, 5:1),\n",
            "      %param_list.33 : Float(10:1),\n",
            "      %param_list.34 : Float(1:10, 10:1, 1:1),\n",
            "      %param_list.35 : Float(1:1),\n",
            "      %param_list.36 : Float(10:50, 10:5, 5:1),\n",
            "      %param_list.37 : Float(10:1),\n",
            "      %param_list.38 : Float(1:10, 10:1, 1:1),\n",
            "      %param_list.39 : Float(1:1)):\n",
            "  %41 : Float(1:10000, 10:1, 1000:10) = onnx::Transpose[perm=[0, 2, 1]](%input) # /content/Neural-GC/models/cmlp.py:24:0\n",
            "  %42 : Float(1:9960, 10:996, 996:1) = onnx::Conv[dilations=[1], group=1, kernel_shape=[5], pads=[0, 0], strides=[1]](%41, %param_list.0, %param_list.1) # /usr/local/lib/python3.6/dist-packages/torch/nn/modules/conv.py:257:0\n",
            "  %43 : Float(1:9960, 10:996, 996:1) = onnx::Relu(%42) # /usr/local/lib/python3.6/dist-packages/torch/nn/functional.py:1119:0\n",
            "  %44 : Float(1:996, 1:996, 996:1) = onnx::Conv[dilations=[1], group=1, kernel_shape=[1], pads=[0, 0], strides=[1]](%43, %param_list.2, %param_list.3) # /usr/local/lib/python3.6/dist-packages/torch/nn/modules/conv.py:257:0\n",
            "  %45 : Float(1:996, 996:1, 1:996) = onnx::Transpose[perm=[0, 2, 1]](%44) # /content/Neural-GC/models/cmlp.py:30:0\n",
            "  %46 : Float(1:10000, 10:1, 1000:10) = onnx::Transpose[perm=[0, 2, 1]](%input) # /content/Neural-GC/models/cmlp.py:24:0\n",
            "  %47 : Float(1:9960, 10:996, 996:1) = onnx::Conv[dilations=[1], group=1, kernel_shape=[5], pads=[0, 0], strides=[1]](%46, %param_list.4, %param_list.5) # /usr/local/lib/python3.6/dist-packages/torch/nn/modules/conv.py:257:0\n",
            "  %48 : Float(1:9960, 10:996, 996:1) = onnx::Relu(%47) # /usr/local/lib/python3.6/dist-packages/torch/nn/functional.py:1119:0\n",
            "  %49 : Float(1:996, 1:996, 996:1) = onnx::Conv[dilations=[1], group=1, kernel_shape=[1], pads=[0, 0], strides=[1]](%48, %param_list.6, %param_list.7) # /usr/local/lib/python3.6/dist-packages/torch/nn/modules/conv.py:257:0\n",
            "  %50 : Float(1:996, 996:1, 1:996) = onnx::Transpose[perm=[0, 2, 1]](%49) # /content/Neural-GC/models/cmlp.py:30:0\n",
            "  %51 : Float(1:10000, 10:1, 1000:10) = onnx::Transpose[perm=[0, 2, 1]](%input) # /content/Neural-GC/models/cmlp.py:24:0\n",
            "  %52 : Float(1:9960, 10:996, 996:1) = onnx::Conv[dilations=[1], group=1, kernel_shape=[5], pads=[0, 0], strides=[1]](%51, %param_list.8, %param_list.9) # /usr/local/lib/python3.6/dist-packages/torch/nn/modules/conv.py:257:0\n",
            "  %53 : Float(1:9960, 10:996, 996:1) = onnx::Relu(%52) # /usr/local/lib/python3.6/dist-packages/torch/nn/functional.py:1119:0\n",
            "  %54 : Float(1:996, 1:996, 996:1) = onnx::Conv[dilations=[1], group=1, kernel_shape=[1], pads=[0, 0], strides=[1]](%53, %param_list.10, %param_list.11) # /usr/local/lib/python3.6/dist-packages/torch/nn/modules/conv.py:257:0\n",
            "  %55 : Float(1:996, 996:1, 1:996) = onnx::Transpose[perm=[0, 2, 1]](%54) # /content/Neural-GC/models/cmlp.py:30:0\n",
            "  %56 : Float(1:10000, 10:1, 1000:10) = onnx::Transpose[perm=[0, 2, 1]](%input) # /content/Neural-GC/models/cmlp.py:24:0\n",
            "  %57 : Float(1:9960, 10:996, 996:1) = onnx::Conv[dilations=[1], group=1, kernel_shape=[5], pads=[0, 0], strides=[1]](%56, %param_list.12, %param_list.13) # /usr/local/lib/python3.6/dist-packages/torch/nn/modules/conv.py:257:0\n",
            "  %58 : Float(1:9960, 10:996, 996:1) = onnx::Relu(%57) # /usr/local/lib/python3.6/dist-packages/torch/nn/functional.py:1119:0\n",
            "  %59 : Float(1:996, 1:996, 996:1) = onnx::Conv[dilations=[1], group=1, kernel_shape=[1], pads=[0, 0], strides=[1]](%58, %param_list.14, %param_list.15) # /usr/local/lib/python3.6/dist-packages/torch/nn/modules/conv.py:257:0\n",
            "  %60 : Float(1:996, 996:1, 1:996) = onnx::Transpose[perm=[0, 2, 1]](%59) # /content/Neural-GC/models/cmlp.py:30:0\n",
            "  %61 : Float(1:10000, 10:1, 1000:10) = onnx::Transpose[perm=[0, 2, 1]](%input) # /content/Neural-GC/models/cmlp.py:24:0\n",
            "  %62 : Float(1:9960, 10:996, 996:1) = onnx::Conv[dilations=[1], group=1, kernel_shape=[5], pads=[0, 0], strides=[1]](%61, %param_list.16, %param_list.17) # /usr/local/lib/python3.6/dist-packages/torch/nn/modules/conv.py:257:0\n",
            "  %63 : Float(1:9960, 10:996, 996:1) = onnx::Relu(%62) # /usr/local/lib/python3.6/dist-packages/torch/nn/functional.py:1119:0\n",
            "  %64 : Float(1:996, 1:996, 996:1) = onnx::Conv[dilations=[1], group=1, kernel_shape=[1], pads=[0, 0], strides=[1]](%63, %param_list.18, %param_list.19) # /usr/local/lib/python3.6/dist-packages/torch/nn/modules/conv.py:257:0\n",
            "  %65 : Float(1:996, 996:1, 1:996) = onnx::Transpose[perm=[0, 2, 1]](%64) # /content/Neural-GC/models/cmlp.py:30:0\n",
            "  %66 : Float(1:10000, 10:1, 1000:10) = onnx::Transpose[perm=[0, 2, 1]](%input) # /content/Neural-GC/models/cmlp.py:24:0\n",
            "  %67 : Float(1:9960, 10:996, 996:1) = onnx::Conv[dilations=[1], group=1, kernel_shape=[5], pads=[0, 0], strides=[1]](%66, %param_list.20, %param_list.21) # /usr/local/lib/python3.6/dist-packages/torch/nn/modules/conv.py:257:0\n",
            "  %68 : Float(1:9960, 10:996, 996:1) = onnx::Relu(%67) # /usr/local/lib/python3.6/dist-packages/torch/nn/functional.py:1119:0\n",
            "  %69 : Float(1:996, 1:996, 996:1) = onnx::Conv[dilations=[1], group=1, kernel_shape=[1], pads=[0, 0], strides=[1]](%68, %param_list.22, %param_list.23) # /usr/local/lib/python3.6/dist-packages/torch/nn/modules/conv.py:257:0\n",
            "  %70 : Float(1:996, 996:1, 1:996) = onnx::Transpose[perm=[0, 2, 1]](%69) # /content/Neural-GC/models/cmlp.py:30:0\n",
            "  %71 : Float(1:10000, 10:1, 1000:10) = onnx::Transpose[perm=[0, 2, 1]](%input) # /content/Neural-GC/models/cmlp.py:24:0\n",
            "  %72 : Float(1:9960, 10:996, 996:1) = onnx::Conv[dilations=[1], group=1, kernel_shape=[5], pads=[0, 0], strides=[1]](%71, %param_list.24, %param_list.25) # /usr/local/lib/python3.6/dist-packages/torch/nn/modules/conv.py:257:0\n",
            "  %73 : Float(1:9960, 10:996, 996:1) = onnx::Relu(%72) # /usr/local/lib/python3.6/dist-packages/torch/nn/functional.py:1119:0\n",
            "  %74 : Float(1:996, 1:996, 996:1) = onnx::Conv[dilations=[1], group=1, kernel_shape=[1], pads=[0, 0], strides=[1]](%73, %param_list.26, %param_list.27) # /usr/local/lib/python3.6/dist-packages/torch/nn/modules/conv.py:257:0\n",
            "  %75 : Float(1:996, 996:1, 1:996) = onnx::Transpose[perm=[0, 2, 1]](%74) # /content/Neural-GC/models/cmlp.py:30:0\n",
            "  %76 : Float(1:10000, 10:1, 1000:10) = onnx::Transpose[perm=[0, 2, 1]](%input) # /content/Neural-GC/models/cmlp.py:24:0\n",
            "  %77 : Float(1:9960, 10:996, 996:1) = onnx::Conv[dilations=[1], group=1, kernel_shape=[5], pads=[0, 0], strides=[1]](%76, %param_list.28, %param_list.29) # /usr/local/lib/python3.6/dist-packages/torch/nn/modules/conv.py:257:0\n",
            "  %78 : Float(1:9960, 10:996, 996:1) = onnx::Relu(%77) # /usr/local/lib/python3.6/dist-packages/torch/nn/functional.py:1119:0\n",
            "  %79 : Float(1:996, 1:996, 996:1) = onnx::Conv[dilations=[1], group=1, kernel_shape=[1], pads=[0, 0], strides=[1]](%78, %param_list.30, %param_list.31) # /usr/local/lib/python3.6/dist-packages/torch/nn/modules/conv.py:257:0\n",
            "  %80 : Float(1:996, 996:1, 1:996) = onnx::Transpose[perm=[0, 2, 1]](%79) # /content/Neural-GC/models/cmlp.py:30:0\n",
            "  %81 : Float(1:10000, 10:1, 1000:10) = onnx::Transpose[perm=[0, 2, 1]](%input) # /content/Neural-GC/models/cmlp.py:24:0\n",
            "  %82 : Float(1:9960, 10:996, 996:1) = onnx::Conv[dilations=[1], group=1, kernel_shape=[5], pads=[0, 0], strides=[1]](%81, %param_list.32, %param_list.33) # /usr/local/lib/python3.6/dist-packages/torch/nn/modules/conv.py:257:0\n",
            "  %83 : Float(1:9960, 10:996, 996:1) = onnx::Relu(%82) # /usr/local/lib/python3.6/dist-packages/torch/nn/functional.py:1119:0\n",
            "  %84 : Float(1:996, 1:996, 996:1) = onnx::Conv[dilations=[1], group=1, kernel_shape=[1], pads=[0, 0], strides=[1]](%83, %param_list.34, %param_list.35) # /usr/local/lib/python3.6/dist-packages/torch/nn/modules/conv.py:257:0\n",
            "  %85 : Float(1:996, 996:1, 1:996) = onnx::Transpose[perm=[0, 2, 1]](%84) # /content/Neural-GC/models/cmlp.py:30:0\n",
            "  %86 : Float(1:10000, 10:1, 1000:10) = onnx::Transpose[perm=[0, 2, 1]](%input) # /content/Neural-GC/models/cmlp.py:24:0\n",
            "  %87 : Float(1:9960, 10:996, 996:1) = onnx::Conv[dilations=[1], group=1, kernel_shape=[5], pads=[0, 0], strides=[1]](%86, %param_list.36, %param_list.37) # /usr/local/lib/python3.6/dist-packages/torch/nn/modules/conv.py:257:0\n",
            "  %88 : Float(1:9960, 10:996, 996:1) = onnx::Relu(%87) # /usr/local/lib/python3.6/dist-packages/torch/nn/functional.py:1119:0\n",
            "  %89 : Float(1:996, 1:996, 996:1) = onnx::Conv[dilations=[1], group=1, kernel_shape=[1], pads=[0, 0], strides=[1]](%88, %param_list.38, %param_list.39) # /usr/local/lib/python3.6/dist-packages/torch/nn/modules/conv.py:257:0\n",
            "  %90 : Float(1:996, 996:1, 1:996) = onnx::Transpose[perm=[0, 2, 1]](%89) # /content/Neural-GC/models/cmlp.py:30:0\n",
            "  %output : Float(1:9960, 996:10, 10:1) = onnx::Concat[axis=2](%45, %50, %55, %60, %65, %70, %75, %80, %85, %90) # /content/Neural-GC/models/cmlp.py:69:0\n",
            "  return (%output)\n",
            "\n"
          ],
          "name": "stdout"
        }
      ]
    }
  ]
}