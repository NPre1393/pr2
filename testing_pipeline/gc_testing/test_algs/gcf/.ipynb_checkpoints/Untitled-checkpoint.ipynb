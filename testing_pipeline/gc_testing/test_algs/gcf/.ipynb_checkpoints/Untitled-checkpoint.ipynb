{
 "cells": [
  {
   "cell_type": "code",
   "execution_count": 16,
   "metadata": {},
   "outputs": [],
   "source": [
    "import pandas as pd\n",
    "import numpy as np"
   ]
  },
  {
   "cell_type": "code",
   "execution_count": 2,
   "metadata": {},
   "outputs": [],
   "source": [
    "df = pd.read_csv(\"pricesvolumes.csv\")"
   ]
  },
  {
   "cell_type": "code",
   "execution_count": 3,
   "metadata": {},
   "outputs": [],
   "source": [
    "cols = [1,2,3,4,6,8,10,12,14,16,18,20,21,22,23,24,26,28,30,32,33,34,36,38,40,42]\n",
    "\n",
    "df.drop(df.columns[cols],axis=1,inplace=True)\n",
    "df.fillna(0, inplace=True)"
   ]
  },
  {
   "cell_type": "code",
   "execution_count": 4,
   "metadata": {},
   "outputs": [
    {
     "name": "stdout",
     "output_type": "stream",
     "text": [
      "17\n",
      "Index(['Date', 'IXIC_prices', 'AAPL_prices', 'ABT_prices', 'AEM_prices',\n",
      "       'AFG_prices', 'APA_prices', 'B_prices', 'CAT_prices', 'LAKE_prices',\n",
      "       'MCD_prices', 'MSFT_prices', 'ORCL_prices', 'SUN_prices', 'T_prices',\n",
      "       'UTX_prices', 'WWD_prices'],\n",
      "      dtype='object')\n",
      "5285\n"
     ]
    }
   ],
   "source": [
    "print(len(df.columns)) # 17\n",
    "\n",
    "print((df.columns)) # Index([u'Date', u'^DJI_prices', u'^GSPC_prices', u'^IXIC_prices', u'AAPL_prices', u'ABT_prices', u'AEM_prices', u'AFG_prices', u'APA_prices', u'B_prices', u'CAT_prices', u'FRD_prices', u'GIGA_prices', u'LAKE_prices', u'MCD_prices', u'MSFT_prices', u'ORCL_prices', u'SUN_prices', u'T_prices', u'UTX_prices', u'WWD_prices'], dtype='object')\n",
    "print(len(df.index)) # 5285"
   ]
  },
  {
   "cell_type": "code",
   "execution_count": 5,
   "metadata": {},
   "outputs": [
    {
     "name": "stdout",
     "output_type": "stream",
     "text": [
      "allcols ['IXIC_prices', 'AAPL_prices', 'ABT_prices', 'AEM_prices', 'AFG_prices', 'APA_prices', 'B_prices', 'CAT_prices', 'LAKE_prices', 'MCD_prices', 'MSFT_prices', 'ORCL_prices', 'SUN_prices', 'T_prices', 'UTX_prices', 'WWD_prices']\n"
     ]
    }
   ],
   "source": [
    "allcols = df.columns.tolist()\n",
    "print('allcols',allcols[1:])\n",
    "df[allcols[1:]] = df[allcols[1:]].apply(pd.to_numeric).apply(lambda x: x/x.mean(), axis=0)"
   ]
  },
  {
   "cell_type": "code",
   "execution_count": 6,
   "metadata": {},
   "outputs": [],
   "source": [
    "allcols.remove(\"Date\")\n",
    "allcols.remove(\"IXIC_prices\")\n",
    "allcols.remove(\"B_prices\")\n",
    "allcols.remove(\"LAKE_prices\")\n",
    "allcols.remove(\"SUN_prices\")"
   ]
  },
  {
   "cell_type": "code",
   "execution_count": 10,
   "metadata": {},
   "outputs": [
    {
     "name": "stdout",
     "output_type": "stream",
     "text": [
      "Index(['Date', 'IXIC_prices', 'AAPL_prices', 'ABT_prices', 'AEM_prices',\n",
      "       'AFG_prices', 'APA_prices', 'B_prices', 'CAT_prices', 'LAKE_prices',\n",
      "       'MCD_prices', 'MSFT_prices', 'ORCL_prices', 'SUN_prices', 'T_prices',\n",
      "       'UTX_prices', 'WWD_prices'],\n",
      "      dtype='object')\n",
      "['AAPL_prices', 'ABT_prices', 'AEM_prices', 'AFG_prices', 'APA_prices', 'CAT_prices', 'MCD_prices', 'MSFT_prices', 'ORCL_prices', 'T_prices', 'UTX_prices', 'WWD_prices']\n"
     ]
    }
   ],
   "source": [
    "print(df.columns)\n",
    "print(allcols)\n"
   ]
  },
  {
   "cell_type": "code",
   "execution_count": 11,
   "metadata": {},
   "outputs": [],
   "source": [
    "inputbatchsize = 5000\n",
    "p = 200\n",
    "q = 200"
   ]
  },
  {
   "cell_type": "code",
   "execution_count": 14,
   "metadata": {},
   "outputs": [],
   "source": [
    "def getstockdata(dfone, lag):\n",
    "    Ypast = []\n",
    "    Ycurr = []\n",
    "    for i in range(-inputbatchsize, 0):\n",
    "        y = dfone.iloc[i,1]\n",
    "        x = dfone.iloc[i - lag:i,1].tolist()\n",
    "        Ypast.append(x)\n",
    "        Ycurr.append(y)\n",
    "    Ypast = np.vstack(Ypast)\n",
    "    Ycurr = np.vstack(Ycurr)\n",
    "    Ycurr = Ycurr.reshape(Ycurr.shape[0], )\n",
    "    return Ypast,Ycurr"
   ]
  },
  {
   "cell_type": "code",
   "execution_count": 21,
   "metadata": {},
   "outputs": [
    {
     "data": {
      "text/plain": [
       "(5000, 2)"
      ]
     },
     "execution_count": 21,
     "metadata": {},
     "output_type": "execute_result"
    }
   ],
   "source": [
    "Ypast,Ycurr = getstockdata(df, 200)"
   ]
  },
  {
   "cell_type": "code",
   "execution_count": 26,
   "metadata": {},
   "outputs": [
    {
     "name": "stdout",
     "output_type": "stream",
     "text": [
      "(5000, 2)\n",
      "(5000,)\n"
     ]
    }
   ],
   "source": [
    "print(Ypast.shape)\n",
    "print(Ycurr.shape)"
   ]
  }
 ],
 "metadata": {
  "kernelspec": {
   "display_name": "Python 3",
   "language": "python",
   "name": "python3"
  },
  "language_info": {
   "codemirror_mode": {
    "name": "ipython",
    "version": 3
   },
   "file_extension": ".py",
   "mimetype": "text/x-python",
   "name": "python",
   "nbconvert_exporter": "python",
   "pygments_lexer": "ipython3",
   "version": "3.5.2"
  }
 },
 "nbformat": 4,
 "nbformat_minor": 2
}
